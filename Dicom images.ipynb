{
 "metadata": {
  "name": "",
  "signature": "sha256:9ee481634598af9ef09c837e5d58d19b2e2ba3b845a786196e9a526536bf583c"
 },
 "nbformat": 3,
 "nbformat_minor": 0,
 "worksheets": [
  {
   "cells": [
    {
     "cell_type": "code",
     "collapsed": false,
     "input": [
      "import dicom\n"
     ],
     "language": "python",
     "metadata": {},
     "outputs": [],
     "prompt_number": 3
    },
    {
     "cell_type": "code",
     "collapsed": false,
     "input": [
      "#Importing images from dropbox\n",
      "from dropbox_path import dropbox_path\n",
      "dropbox_path()\n",
      "file_path = dropbox_path() + '\\MicroCT\\\\Dicom images\\C0001656_00000.DCM'"
     ],
     "language": "python",
     "metadata": {},
     "outputs": [],
     "prompt_number": 4
    },
    {
     "cell_type": "code",
     "collapsed": false,
     "input": [
      " #reading the dicom file\n",
      "plan = dicom.read_file(file_path)"
     ],
     "language": "python",
     "metadata": {},
     "outputs": [],
     "prompt_number": 5
    },
    {
     "cell_type": "code",
     "collapsed": false,
     "input": [
      "plan.dir\n"
     ],
     "language": "python",
     "metadata": {},
     "outputs": [
      {
       "metadata": {},
       "output_type": "pyout",
       "prompt_number": 6,
       "text": [
        "<bound method FileDataset.dir of (0008, 0008) Image Type                          CS: ['ORIGINAL', 'PRIMARY', 'AXIAL']\n",
        "(0008, 0016) SOP Class UID                       UI: CT Image Storage\n",
        "(0008, 0018) SOP Instance UID                    UI: 2.16.756.5.23.6502.67.1656.3.20140903122438.598413229.0\n",
        "(0008, 0020) Study Date                          DA: '20140903'\n",
        "(0008, 0021) Series Date                         DA: '20140903'\n",
        "(0008, 0022) Acquisition Date                    DA: ''\n",
        "(0008, 0023) Content Date                        DA: '20140903'\n",
        "(0008, 0030) Study Time                          TM: '122438'\n",
        "(0008, 0031) Series Time                         TM: '122438'\n",
        "(0008, 0032) Acquisition Time                    TM: ''\n",
        "(0008, 0033) Content Time                        TM: '122438'\n",
        "(0008, 0050) Accession Number                    SH: ''\n",
        "(0008, 0060) Modality                            CS: 'CT'\n",
        "(0008, 0070) Manufacturer                        LO: 'SCANCO Medical'\n",
        "(0008, 0080) Institution Name                    LO: ''\n",
        "(0008, 0090) Referring Physician's Name          PN: ''\n",
        "(0008, 1030) Study Description                   LO: ''\n",
        "(0008, 103e) Series Description                  LO: 'Linear Attenuation [1/cm] (2630)'\n",
        "(0008, 1090) Manufacturer's Model Name           LO: '10'\n",
        "(0009, 0010) Private Creator                     LO: 'SCANCO version'\n",
        "(0009, 1000) Private tag data                    SH: 'SCANCO_V1.2a'\n",
        "(0009, 1001) Private tag data                    IS: '3'\n",
        "(0010, 0010) Patient's Name                      PN: 'AL - ahmed UAB - glass composite'\n",
        "(0010, 0020) Patient ID                          LO: '233'\n",
        "(0010, 0030) Patient's Birth Date                DA: ''\n",
        "(0010, 0040) Patient's Sex                       CS: ''\n",
        "(0018, 0050) Slice Thickness                     DS: '1.000000e-02'\n",
        "(0018, 0060) KVP                                 DS: '4.500000e+01'\n",
        "(0018, 0090) Data Collection Diameter            DS: '2.048000e+01'\n",
        "(0018, 1000) Device Serial Number                LO: '6502'\n",
        "(0018, 1020) Software Version(s)                 LO: ''\n",
        "(0018, 1050) Spatial Resolution                  DS: ''\n",
        "(0018, 1110) Distance Source to Detector         DS: ''\n",
        "(0018, 1111) Distance Source to Patient          DS: ''\n",
        "(0018, 1150) Exposure Time                       IS: '1200'\n",
        "(0018, 1153) Exposure in uAs                     IS: '240'\n",
        "(0018, 1210) Convolution Kernel                  SH: '3'\n",
        "(0018, 5100) Patient Position                    CS: ''\n",
        "(0019, 0010) Private Creator                     LO: 'SCANCO scan parameters'\n",
        "(0019, 1000) Private tag data                    IS: ['79', '91', '0']\n",
        "(0019, 1001) Private tag data                    IS: '4'\n",
        "(0019, 1002) Private tag data                    IS: '2048'\n",
        "(0019, 1003) Private tag data                    IS: '1000'\n",
        "(0019, 1004) Private tag data                    IS: '0'\n",
        "(0019, 1005) Private tag data                    ST: 'dk0:[uct50.data.00000233.00001995]c0001656.isq;'\n",
        "(0020, 000d) Study Instance UID                  UI: 2.16.756.5.23.6502.67.1656.1111\n",
        "(0020, 000e) Series Instance UID                 UI: 2.16.756.5.23.6502.67.1656.3.20140903122438.598413229\n",
        "(0020, 0010) Study ID                            SH: '6502 C1656'\n",
        "(0020, 0011) Series Number                       IS: '2630'\n",
        "(0020, 0012) Acquisition Number                  IS: '1995'\n",
        "(0020, 0013) Instance Number                     IS: '0'\n",
        "(0020, 0032) Image Position (Patient)            DS: ['7.900000e-01', '9.100000e-01', '7.854500e+01']\n",
        "(0020, 0037) Image Orientation (Patient)         DS: ['1.000000', '0.000000', '0.000000', '0.000000', '1.000000', '0.000000']\n",
        "(0020, 0052) Frame of Reference UID              UI: 2.16.756.5.23.6502.67.1656.2222\n",
        "(0020, 1040) Position Reference Indicator        LO: ''\n",
        "(0020, 1041) Slice Location                      DS: '7.854500e+01'\n",
        "(0028, 0002) Samples per Pixel                   US: 1\n",
        "(0028, 0004) Photometric Interpretation          CS: 'MONOCHROME2'\n",
        "(0028, 0010) Rows                                US: 1809\n",
        "(0028, 0011) Columns                             US: 1853\n",
        "(0028, 0030) Pixel Spacing                       DS: ['1.000000e-02', '1.000000e-02']\n",
        "(0028, 0100) Bits Allocated                      US: 16\n",
        "(0028, 0101) Bits Stored                         US: 16\n",
        "(0028, 0102) High Bit                            US: 15\n",
        "(0028, 0103) Pixel Representation                US: 1\n",
        "(0028, 1052) Rescale Intercept                   DS: '0.000000e+00'\n",
        "(0028, 1053) Rescale Slope                       DS: '1.000000e+00'\n",
        "(0029, 0010) Private Creator                     LO: 'SCANCO calibration'\n",
        "(0029, 0011) Private Creator                     LO: 'SCANCO statistics'\n",
        "(0029, 1000) Private tag data                    IS: '4096'\n",
        "(0029, 1006) Private tag data                    DS: '0.00000'\n",
        "(0029, 1100) Private tag data                    LO: 'Linear Attenuation'\n",
        "(0029, 1101) Private tag data                    LO: '[1/cm]'\n",
        "(0029, 1102) Private tag data                    DS: '4096.000000'\n",
        "(0029, 1103) Private tag data                    DS: '-5177.00000'\n",
        "(0029, 1104) Private tag data                    DS: '30301.00000'\n",
        "(0029, 1105) Private tag data                    DS: '2902.49536'\n",
        "(0029, 1106) Private tag data                    DS: '2468.87671'\n",
        "(0029, 1107) Private tag data                    LO: ''\n",
        "(0029, 1108) Private tag data                    IS: '0'\n",
        "(0029, 1109) Private tag data                    IS: '131074'\n",
        "(7fe0, 0010) Pixel Data                          OW: Array of 6704154 bytes>"
       ]
      }
     ],
     "prompt_number": 6
    },
    {
     "cell_type": "code",
     "collapsed": false,
     "input": [],
     "language": "python",
     "metadata": {},
     "outputs": []
    }
   ],
   "metadata": {}
  }
 ]
}